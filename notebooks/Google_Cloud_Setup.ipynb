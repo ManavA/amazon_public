{
 "cells": [
  {
   "cell_type": "markdown",
   "metadata": {},
   "source": [
    "# Getting Started with Google Cloud"
   ]
  },
  {
   "cell_type": "markdown",
   "metadata": {},
   "source": [
    "Manav Agarwal <manav@me.com>, Shanaka Desosya <shanaka@computer.org>, Suresh Seeram <suresh.b.seeram@gmail.com> <br>\n",
    "Freel free to contact for questions or support."
   ]
  },
  {
   "cell_type": "markdown",
   "metadata": {},
   "source": [
    "## Overview"
   ]
  },
  {
   "cell_type": "markdown",
   "metadata": {},
   "source": [
    "Google Cloud is Google's cloud server offering, much like Amazon's EC2. Recently Google started offering instances with GPU support (NVIDIA K80). This is great for those of you who want to run GPU accelerated machine learning algorithms, but don't have the hardware."
   ]
  },
  {
   "cell_type": "markdown",
   "metadata": {},
   "source": [
    "Google is offering a $300 credit for new signups which should get you roughly 300 hours of usage. As long as you remember to stop your instance when you are done training your models, this should get you a good amount of use. "
   ]
  },
  {
   "cell_type": "markdown",
   "metadata": {},
   "source": [
    "### Step 1: Registration & Billing"
   ]
  },
  {
   "cell_type": "markdown",
   "metadata": {},
   "source": [
    "To get started, go to https://console.cloud.google.com/. Create and name your initial project. "
   ]
  },
  {
   "cell_type": "markdown",
   "metadata": {},
   "source": [
    "<img src='http://www.manavagarwal.com/wp-content/uploads/2017/05/g-ss1.png'>"
   ]
  },
  {
   "cell_type": "markdown",
   "metadata": {},
   "source": [
    "Google GPU instances are disabled for new accounts. To enable them, you must first upgrade your account by entering in billing information. Don't worry because you will only get charged once you surpass your free limit. Once again, remember to stop your instances when you are done. Next you upgrade your account to a paid account by clicking on the free trial status on top.  "
   ]
  },
  {
   "cell_type": "markdown",
   "metadata": {},
   "source": [
    "<img src='http://www.manavagarwal.com/wp-content/uploads/2017/05/g-ss2.png'>"
   ]
  },
  {
   "cell_type": "markdown",
   "metadata": {},
   "source": [
    "### Step 2: Request Quota Increase"
   ]
  },
  {
   "cell_type": "markdown",
   "metadata": {},
   "source": [
    "To enable GPUs on your account you have to submit a request to Google which is usually automatically processed. First, click on Compute Engine on the left tab. Then navigate to Quotas and click \"Request Quota Increase\""
   ]
  },
  {
   "cell_type": "markdown",
   "metadata": {},
   "source": [
    "<img src='http://www.manavagarwal.com/wp-content/uploads/2017/05/g-ss3.png'>"
   ]
  },
  {
   "cell_type": "markdown",
   "metadata": {},
   "source": [
    "Fill out the form requesting one or two GPU dies. For region, I selected US-WEST1 since that is closest to me and has GPUs available. Offhand, I know they are also available in the US-EAST region. You only need to enter in your name, email, phone and the amount of GPUs. "
   ]
  },
  {
   "cell_type": "markdown",
   "metadata": {},
   "source": [
    "After filling out the form you should hear back from Google via email immediately granting your request. "
   ]
  },
  {
   "cell_type": "markdown",
   "metadata": {},
   "source": [
    "### Step 3: Start an Instance"
   ]
  },
  {
   "cell_type": "markdown",
   "metadata": {},
   "source": [
    "Navigate back to the Compute Engine tab and click on VM Instances -> Create Instance. You will have to click on the \"customize\" tab to access GPU options."
   ]
  },
  {
   "cell_type": "markdown",
   "metadata": {},
   "source": [
    "<img src='http://www.manavagarwal.com/wp-content/uploads/2017/05/g-ss4.png'>"
   ]
  },
  {
   "cell_type": "markdown",
   "metadata": {},
   "source": [
    "I went with the following configuration (your own needs may vary):<br>\n",
    "Cores: 4<br>\n",
    "Memory: 15gb<br>\n",
    "**GPU: 1 NVIDIA K80**<br>\n",
    "<br>\n",
    "Boot Disk: Ubuntu 16.04 LTS 250GB.<br>\n",
    "Allow All API Access<br>\n",
    "Allow HTTP/HTTPS Traffic.<br>"
   ]
  },
  {
   "cell_type": "markdown",
   "metadata": {},
   "source": [
    "Click create and your instance will be ready to go."
   ]
  },
  {
   "cell_type": "markdown",
   "metadata": {},
   "source": [
    "### Step 4: Setup SSH key"
   ]
  },
  {
   "cell_type": "markdown",
   "metadata": {},
   "source": [
    "You can SSH to your instance directly from the Google console, but you may want to setup a SSH key to make it easier to transfer files or run something like Jupyter notebook."
   ]
  },
  {
   "cell_type": "markdown",
   "metadata": {},
   "source": [
    "Please refer to: https://cloud.google.com/compute/docs/instances/adding-removing-ssh-keys. Your instructions will vary by OS and configuration (or you probably already have one setup). The basic instructions are as follows:"
   ]
  },
  {
   "cell_type": "code",
   "execution_count": null,
   "metadata": {
    "collapsed": true
   },
   "outputs": [],
   "source": [
    "~$ ssh-keygen -t rsa -f ~/.ssh/my-google-ssh-key -C [USERNAME/GoogleID]\n",
    "~$ chmod 400 ~/.ssh/my-google-ssh-key\n",
    "~$ cat ~/.ssh/my-google-ssh-key.pub"
   ]
  },
  {
   "cell_type": "markdown",
   "metadata": {},
   "source": [
    "Once you have your public key generated, navigate to the Metadata tab and paste it under \"SSH Keys\". Your keys will be transfered to the server and ready for use. Go back to the VM Instances tab and take note of your \"External IP\" You can then ssh into your instance with the following:"
   ]
  },
  {
   "cell_type": "code",
   "execution_count": null,
   "metadata": {
    "collapsed": true
   },
   "outputs": [],
   "source": [
    "~$ ssh -i ~/.ssh/my-google-ssh-key [USERNAME]@[EXTERNAL_IP]"
   ]
  },
  {
   "cell_type": "markdown",
   "metadata": {},
   "source": [
    "### Step 5: Install Cuda"
   ]
  },
  {
   "cell_type": "markdown",
   "metadata": {},
   "source": [
    "SSH into your instance and do the following:"
   ]
  },
  {
   "cell_type": "code",
   "execution_count": null,
   "metadata": {
    "collapsed": true
   },
   "outputs": [],
   "source": [
    "~$ curl -O http://developer.download.nvidia.com/compute/cuda/repos/ubuntu1604/x86_64/cuda-repo-ubuntu1604_8.0.61-1_amd64.deb\n",
    "~$ sudo dpkg -i cuda-repo-ubuntu1604_8.0.61-1_amd64.deb\n",
    "~$ sudo apt-get update\n",
    "~$ rm cuda-repo-ubuntu1604_8.0.61-1_amd64.deb\n",
    "~$ sudo apt-get install cuda -y"
   ]
  },
  {
   "cell_type": "markdown",
   "metadata": {},
   "source": [
    "To confirm, run nvidia-smi"
   ]
  },
  {
   "cell_type": "code",
   "execution_count": 1,
   "metadata": {
    "collapsed": false
   },
   "outputs": [
    {
     "name": "stdout",
     "output_type": "stream",
     "text": [
      "Sun May  7 22:15:14 2017       \r\n",
      "+-----------------------------------------------------------------------------+\r\n",
      "| NVIDIA-SMI 375.51                 Driver Version: 375.51                    |\r\n",
      "|-------------------------------+----------------------+----------------------+\r\n",
      "| GPU  Name        Persistence-M| Bus-Id        Disp.A | Volatile Uncorr. ECC |\r\n",
      "| Fan  Temp  Perf  Pwr:Usage/Cap|         Memory-Usage | GPU-Util  Compute M. |\r\n",
      "|===============================+======================+======================|\r\n",
      "|   0  Tesla K80           Off  | 0000:00:04.0     Off |                    0 |\r\n",
      "| N/A   47C    P0    62W / 149W |  10941MiB / 11439MiB |      0%      Default |\r\n",
      "+-------------------------------+----------------------+----------------------+\r\n",
      "                                                                               \r\n",
      "+-----------------------------------------------------------------------------+\r\n",
      "| Processes:                                                       GPU Memory |\r\n",
      "|  GPU       PID  Type  Process name                               Usage      |\r\n",
      "|=============================================================================|\r\n",
      "|    0      1896    G   /usr/lib/xorg/Xorg                              15MiB |\r\n",
      "|    0     13826    C   /home/manava/anaconda2/bin/python            10922MiB |\r\n",
      "+-----------------------------------------------------------------------------+\r\n"
     ]
    }
   ],
   "source": [
    "~$ nvidia-smi"
   ]
  },
  {
   "cell_type": "markdown",
   "metadata": {},
   "source": [
    "Export environmental variables."
   ]
  },
  {
   "cell_type": "code",
   "execution_count": null,
   "metadata": {
    "collapsed": true
   },
   "outputs": [],
   "source": [
    "~$ echo 'export CUDA_HOME=/usr/local/cuda' >> ~/.bashrc\n",
    "~$ echo 'export PATH=$PATH:$CUDA_HOME/bin' >> ~/.bashrc\n",
    "~$ echo 'export LD_LIBRARY_PATH=$LD_LIBRARY_PATH:$CUDA_HOME/lib64' >> ~/.bashrc\n",
    "~$ source ~/.bashrc"
   ]
  },
  {
   "cell_type": "markdown",
   "metadata": {},
   "source": [
    "### Step 6: Install cuDNN"
   ]
  },
  {
   "cell_type": "markdown",
   "metadata": {},
   "source": [
    "cuDNN is available with free license from Nvidia. You must register at https://developer.nvidia.com/cudnn to download cuDNN. Once you register, make sure to download cudnn-8.0-linux-x64-v5.1.tgz. cuDNN 8.0 for Linux v5.1 (only v5.1 will work with Tensorflow's default installation)"
   ]
  },
  {
   "cell_type": "markdown",
   "metadata": {},
   "source": [
    "Next copy the file to your instance. You can do this via scp or sftp with the ssh key you created earlier."
   ]
  },
  {
   "cell_type": "code",
   "execution_count": null,
   "metadata": {
    "collapsed": true
   },
   "outputs": [],
   "source": [
    "$ scp -i .ssh/my_ssh_key cudnn-8.0-linux-x64-v5.1.tgz <instance-ip>:"
   ]
  },
  {
   "cell_type": "markdown",
   "metadata": {},
   "source": [
    "Once you are back SSHed into your instance, do the following:"
   ]
  },
  {
   "cell_type": "code",
   "execution_count": null,
   "metadata": {
    "collapsed": true
   },
   "outputs": [],
   "source": [
    "~$ cd\n",
    "~$ tar xzvf cudnn-8.0-linux-x64-v5.1.tgz\n",
    "~$ sudo cp cuda/lib64/* /usr/local/cuda/lib64/\n",
    "~$ sudo cp cuda/include/cudnn.h /usr/local/cuda/include/\n",
    "~$ rm -rf ~/cuda\n",
    "~$ rm cudnn-8.0-linux-x64-v5.1.tgz"
   ]
  },
  {
   "cell_type": "markdown",
   "metadata": {},
   "source": [
    "After this cuda/cudnn should be up and running. "
   ]
  },
  {
   "cell_type": "markdown",
   "metadata": {},
   "source": [
    "### Step 7: Install Anaconda and Deep Learning Frameworks"
   ]
  },
  {
   "cell_type": "markdown",
   "metadata": {},
   "source": [
    "Anaconda is a good way of installing Jupyter Notebook as well as a lot of basic python libraries. We're using the Python 2.7 version of Anaconda. "
   ]
  },
  {
   "cell_type": "code",
   "execution_count": null,
   "metadata": {
    "collapsed": true
   },
   "outputs": [],
   "source": [
    "~$ curl -O https://repo.continuum.io/archive/Anaconda2-4.3.1-Linux-x86_64.sh\n",
    "~$ bash Anaconda2-4.3.1-Linux-x86_64.sh"
   ]
  },
  {
   "cell_type": "markdown",
   "metadata": {},
   "source": [
    "Next make sure you have pip installed. We're using and installing for python 2.7 in this instance."
   ]
  },
  {
   "cell_type": "code",
   "execution_count": null,
   "metadata": {
    "collapsed": true
   },
   "outputs": [],
   "source": [
    "~$ sudo apt-get install python-pip"
   ]
  },
  {
   "cell_type": "markdown",
   "metadata": {},
   "source": [
    "Install tensorflow-gpu and keras (or other deep learning frameworks). Also install opencv"
   ]
  },
  {
   "cell_type": "code",
   "execution_count": null,
   "metadata": {
    "collapsed": true
   },
   "outputs": [],
   "source": [
    "~$ pip install tensorflow-gpu\n",
    "~$ pip install keras\n",
    "~$ conda install opencv"
   ]
  },
  {
   "cell_type": "markdown",
   "metadata": {},
   "source": [
    "### Step 8: (Optional) Configure and run Jupyter Notebooks"
   ]
  },
  {
   "cell_type": "markdown",
   "metadata": {},
   "source": [
    "First cd to your home directory. We make the notebooks directory (don't cd into it yet) and generate the config file."
   ]
  },
  {
   "cell_type": "code",
   "execution_count": null,
   "metadata": {
    "collapsed": true
   },
   "outputs": [],
   "source": [
    "~$ mkdir notebooks\n",
    "~$ jupyter notebook --generate-config"
   ]
  },
  {
   "cell_type": "markdown",
   "metadata": {},
   "source": [
    "Then use vim/nano to edit your configuration file "
   ]
  },
  {
   "cell_type": "code",
   "execution_count": null,
   "metadata": {
    "collapsed": true
   },
   "outputs": [],
   "source": [
    "~$ vim ~/.jupyter/jupyter_notebook_config.py"
   ]
  },
  {
   "cell_type": "markdown",
   "metadata": {},
   "source": [
    "You have a few options here. \n",
    "Personally I like to set up a SSH tunnel. For that configuration enter the following at top of the file: "
   ]
  },
  {
   "cell_type": "markdown",
   "metadata": {},
   "source": [
    "*Option 1: SSH Tunnel*"
   ]
  },
  {
   "cell_type": "code",
   "execution_count": null,
   "metadata": {
    "collapsed": true
   },
   "outputs": [],
   "source": [
    "c = get_config()  # get the config object\n",
    "c.IPKernelApp.pylab = 'inline'  # in-line figure when using Matplotlib\n",
    "c.NotebookApp.open_browser = False  # do not open a browser window by default when using notebooks\n",
    "c.NotebookApp.token = '' # No token. But, please, please always use jupyter over ssh tunnel"
   ]
  },
  {
   "cell_type": "code",
   "execution_count": null,
   "metadata": {
    "collapsed": true
   },
   "outputs": [],
   "source": [
    "Then on your local machine you do the following"
   ]
  },
  {
   "cell_type": "code",
   "execution_count": null,
   "metadata": {
    "collapsed": true
   },
   "outputs": [],
   "source": [
    "~$ ssh -i .ssh/my_google_ssh_key -L 8899:localhost:8888 username@<instance-ip>"
   ]
  },
  {
   "cell_type": "code",
   "execution_count": null,
   "metadata": {
    "collapsed": true
   },
   "outputs": [],
   "source": [
    "Jupyter should be accessible then on your local machine at https://localhost:8899"
   ]
  },
  {
   "cell_type": "markdown",
   "metadata": {},
   "source": [
    "*Option 2: HTTP over web*"
   ]
  },
  {
   "cell_type": "markdown",
   "metadata": {},
   "source": [
    "First generate a password. Open Jupyter Notebook or a python shell locally and enter: "
   ]
  },
  {
   "cell_type": "code",
   "execution_count": null,
   "metadata": {
    "collapsed": true
   },
   "outputs": [],
   "source": [
    "from notebook.auth import passwd; passwd()"
   ]
  },
  {
   "cell_type": "markdown",
   "metadata": {},
   "source": [
    "This will generate a sha1 hash after you enter a password. You can use some other type of hash just update appropriately."
   ]
  },
  {
   "cell_type": "code",
   "execution_count": null,
   "metadata": {
    "collapsed": true
   },
   "outputs": [],
   "source": [
    "~$ vim ~/.jupyter/jupyter_notebook_config.py"
   ]
  },
  {
   "cell_type": "markdown",
   "metadata": {},
   "source": [
    "Then edit the same file from above with the following contents, inserting your key."
   ]
  },
  {
   "cell_type": "code",
   "execution_count": null,
   "metadata": {
    "collapsed": true
   },
   "outputs": [],
   "source": [
    "~$ c.NotebookApp.allow_origin = '*'\n",
    "~$ c.NotebookApp.ip = '*'\n",
    "~$ c.NotebookApp.open_browser = False\n",
    "~$ c.NotebookApp.password = u'sha1:yourkeyhere'"
   ]
  },
  {
   "cell_type": "markdown",
   "metadata": {},
   "source": [
    "Run your notebook by going to <instance-ip>:8888 on your local browser. Enter your password and it should work. As a demo do the following."
   ]
  },
  {
   "cell_type": "code",
   "execution_count": 2,
   "metadata": {
    "collapsed": false
   },
   "outputs": [
    {
     "name": "stderr",
     "output_type": "stream",
     "text": [
      "Using TensorFlow backend.\n"
     ]
    }
   ],
   "source": [
    "import keras"
   ]
  },
  {
   "cell_type": "markdown",
   "metadata": {},
   "source": [
    "In your log it should show your GPU info confirming its using the GPU."
   ]
  },
  {
   "cell_type": "markdown",
   "metadata": {},
   "source": [
    "<img src='http://www.manavagarwal.com/wp-content/uploads/2017/05/g-ss5.png'>"
   ]
  }
 ],
 "metadata": {},
 "nbformat": 4,
 "nbformat_minor": 2
}
