{
 "cells": [
  {
   "cell_type": "markdown",
   "metadata": {},
   "source": [
    "# Obtaining the Planet datasets"
   ]
  },
  {
   "cell_type": "markdown",
   "metadata": {},
   "source": [
    "### Directory setup"
   ]
  },
  {
   "cell_type": "markdown",
   "metadata": {},
   "source": [
    "In our home directory we have a folder called \"notebooks\" and inside that directory we have a folder called \"input\". We will put training and test data there so if its easier you can use the same configuration. If you do not you may have to modify code for your configuration."
   ]
  },
  {
   "cell_type": "markdown",
   "metadata": {},
   "source": [
    "### Getting the Files"
   ]
  },
  {
   "cell_type": "markdown",
   "metadata": {},
   "source": [
    "All of the files are available on Kaggle.com at https://www.kaggle.com/c/planet-understanding-the-amazon-from-space. Look under the data tab click download and then upload them to your instance using scp/sftp. "
   ]
  },
  {
   "cell_type": "markdown",
   "metadata": {},
   "source": [
    "You can also use bittorent to download directly into your instance."
   ]
  },
  {
   "cell_type": "code",
   "execution_count": null,
   "metadata": {
    "collapsed": true
   },
   "outputs": [],
   "source": [
    "sudo apt-get install transmission-cli"
   ]
  },
  {
   "cell_type": "code",
   "execution_count": null,
   "metadata": {
    "collapsed": true
   },
   "outputs": [],
   "source": [
    "$ cd ~/notebooks/input"
   ]
  },
  {
   "cell_type": "code",
   "execution_count": null,
   "metadata": {
    "collapsed": true
   },
   "outputs": [],
   "source": [
    "$ wget https://github.com/ManavA/amazon_public/raw/master/Kaggle-planet-test-tif.torrent\n",
    "$ wget https://github.com/ManavA/amazon_public/raw/master/Kaggle-planet-train-tif.torrent\n",
    "$ wget https://github.com/ManavA/amazon_public/raw/master/Kaggle-planet.torrent\n",
    "$ wget https://github.com/ManavA/amazon_public/raw/master/sample_submission.csv.zip\n",
    "$ wget https://github.com/ManavA/amazon_public/raw/master/train.csv.zip"
   ]
  },
  {
   "cell_type": "code",
   "execution_count": null,
   "metadata": {
    "collapsed": true
   },
   "outputs": [],
   "source": [
    "$ unzip train.csv.zip\n",
    "$ unzip sample_submission.csv.zip"
   ]
  },
  {
   "cell_type": "code",
   "execution_count": null,
   "metadata": {
    "collapsed": true
   },
   "outputs": [],
   "source": [
    "transmission-cli Kaggle-planet-test-tif.torrent Kaggle-planet-test-tif.torrent Kaggle-planet.torrent"
   ]
  },
  {
   "cell_type": "markdown",
   "metadata": {},
   "source": [
    "The Kaggle files are in 7za format, to unarchive use 7za x Kaggle-planet. One strange thing is that the files are zipped twice so we have to unzip some of them twice. This may be fixed in the torrent by the data creators later."
   ]
  },
  {
   "cell_type": "code",
   "execution_count": null,
   "metadata": {
    "collapsed": true
   },
   "outputs": [],
   "source": [
    "$ 7za x Kaggle-planet-test-tif\n",
    "$ 7za x Kaggle-planet-test-tif~\n",
    "$ 7za x Kaggle-planet-train-tif\n",
    "$ 7za x Kaggle-planet-train-tif~\n",
    "$ 7za x Kaggle-planet"
   ]
  },
  {
   "cell_type": "markdown",
   "metadata": {},
   "source": [
    "Move generated folders to ~/input"
   ]
  }
 ],
 "metadata": {
  "kernelspec": {
   "display_name": "Python 2",
   "language": "python",
   "name": "python2"
  },
  "language_info": {
   "codemirror_mode": {
    "name": "ipython",
    "version": 2
   },
   "file_extension": ".py",
   "mimetype": "text/x-python",
   "name": "python",
   "nbconvert_exporter": "python",
   "pygments_lexer": "ipython2",
   "version": "2.7.13"
  }
 },
 "nbformat": 4,
 "nbformat_minor": 2
}
